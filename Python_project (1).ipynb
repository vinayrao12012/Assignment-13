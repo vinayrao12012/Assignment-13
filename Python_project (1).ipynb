{
 "cells": [
  {
   "cell_type": "code",
   "execution_count": 1,
   "id": "c88b16a8-12ed-467d-87fb-36a5d1429b56",
   "metadata": {},
   "outputs": [],
   "source": [
    "import requests\n",
    "import re\n",
    "import pandas as pd"
   ]
  },
  {
   "cell_type": "code",
   "execution_count": 2,
   "id": "691432be-0be2-4967-a2e1-c6a36a674938",
   "metadata": {},
   "outputs": [],
   "source": [
    "url = \"https://www.youtube.com/@PW-Foundation/videos\""
   ]
  },
  {
   "cell_type": "code",
   "execution_count": 3,
   "id": "0e0f9e79-b95c-4ce6-bf06-9ee583d79e3c",
   "metadata": {},
   "outputs": [],
   "source": [
    "headers = {\n",
    "'User-Agent': 'Mozilla/5.0 (Windows NT 10.0; rv:91.0) Gecko/20100101 Firefox/91.0',\n",
    "'Accept-Language': 'en-US,en;q=0.9'\n",
    "}"
   ]
  },
  {
   "cell_type": "code",
   "execution_count": 4,
   "id": "ea692021-7e44-4776-89fe-8523efacd6d1",
   "metadata": {},
   "outputs": [],
   "source": [
    "response = requests.get(url,headers=headers)"
   ]
  },
  {
   "cell_type": "code",
   "execution_count": 5,
   "id": "f8d0b3a8-ee65-469f-87d3-a5c84e9a79af",
   "metadata": {},
   "outputs": [],
   "source": [
    "response_text = response.text"
   ]
  },
  {
   "cell_type": "markdown",
   "id": "f666d198-ce2f-4ef1-8fa0-8d0ff500d473",
   "metadata": {},
   "source": [
    "## Q1"
   ]
  },
  {
   "cell_type": "code",
   "execution_count": 6,
   "id": "723f53dc-166a-4f64-8f7c-23b078b639e1",
   "metadata": {},
   "outputs": [],
   "source": [
    "vid_links = re.findall(r\"watch\\?v=[A-Za-z0-9_-]{11}\", response_text)"
   ]
  },
  {
   "cell_type": "code",
   "execution_count": 21,
   "id": "0cfe8649-cb27-4f9e-a506-f0736e44f8ec",
   "metadata": {},
   "outputs": [
    {
     "name": "stdout",
     "output_type": "stream",
     "text": [
      "https://www.youtube.com/watch?v=U09HORTeaB8\n",
      "https://www.youtube.com/watch?v=eazPrtheE14\n",
      "https://www.youtube.com/watch?v=luqdZrYnFOM\n",
      "https://www.youtube.com/watch?v=YiBqvPi8Q1I\n",
      "https://www.youtube.com/watch?v=mw9mLdN6ssA\n"
     ]
    }
   ],
   "source": [
    "for i in range(5):\n",
    "    print(\"https://www.youtube.com/\"+vid_links[i])"
   ]
  },
  {
   "cell_type": "markdown",
   "id": "4cd064ae-97a8-452e-b3bb-e0beb54b6deb",
   "metadata": {},
   "source": [
    "## Q2"
   ]
  },
  {
   "cell_type": "code",
   "execution_count": 7,
   "id": "66067428-07a9-4d11-9f7a-97c736c4eb36",
   "metadata": {},
   "outputs": [],
   "source": [
    "vid_thumbnails = re.findall(r\"https://i.ytimg.com/vi/[A-Za-z0-9_-]{11}/[A-Za-z0-9_]{9}.jpg\", response_text)"
   ]
  },
  {
   "cell_type": "code",
   "execution_count": 8,
   "id": "2443d2c8-ecb1-49b1-b40a-8d5428417042",
   "metadata": {},
   "outputs": [
    {
     "name": "stdout",
     "output_type": "stream",
     "text": [
      "https://i.ytimg.com/vi/U09HORTeaB8/hqdefault.jpg\n",
      "https://i.ytimg.com/vi/U09HORTeaB8/hqdefault.jpg\n",
      "https://i.ytimg.com/vi/U09HORTeaB8/hqdefault.jpg\n",
      "https://i.ytimg.com/vi/U09HORTeaB8/hqdefault.jpg\n",
      "https://i.ytimg.com/vi/eazPrtheE14/hqdefault.jpg\n"
     ]
    }
   ],
   "source": [
    "for i in range(5):\n",
    "    print(vid_thumbnails[i])"
   ]
  },
  {
   "cell_type": "markdown",
   "id": "65384b04-1cbb-4414-832d-2ddaac4adbcd",
   "metadata": {},
   "source": [
    "## Q3"
   ]
  },
  {
   "cell_type": "code",
   "execution_count": 9,
   "id": "fde36277-7b8f-4b98-b888-e3a0b1b6f5dd",
   "metadata": {},
   "outputs": [],
   "source": [
    "vid_titles = re.findall('\"title\":{\"runs\":\\[{\"text\":\".*?\"', response_text)"
   ]
  },
  {
   "cell_type": "code",
   "execution_count": 30,
   "id": "214b73df-71d6-4fcc-a23c-ba48e09e6ed4",
   "metadata": {},
   "outputs": [
    {
     "name": "stdout",
     "output_type": "stream",
     "text": [
      "\"title\":{\"runs\":[{\"text\":\"MEGA MOCK TEST Series is LIVE Now 🔴|| For Class-9th \\u0026 10th Students @free\"\n",
      "\"title\":{\"runs\":[{\"text\":\"ALERT 🚨 : OLYMPIAD EXAM Registration Open for 2023-2024 | Step by Step Procedure | NSO | IMO | SOF\"\n",
      "\"title\":{\"runs\":[{\"text\":\"Offer Ending Soon 🤯 | Only Few Hours Left | #SapneDekhneKiAzaadi 🔥\"\n",
      "\"title\":{\"runs\":[{\"text\":\"Upto 35% Off On All PW Batches 🔥 | Only 1 Day Left 🤯 #SapneDekhneKiAzaadi\"\n",
      "\"title\":{\"runs\":[{\"text\":\"Happy 77th Independence Day 🇮🇳 | Check the Offers Now 🔥 #SapneDekhneKiAzaadi\"\n"
     ]
    }
   ],
   "source": [
    "for i in range(5):\n",
    "    print(vid_titles[i])"
   ]
  },
  {
   "cell_type": "markdown",
   "id": "a26a0156-0ecc-42dc-80c9-65530367005f",
   "metadata": {},
   "source": [
    "## Q4 / Q5"
   ]
  },
  {
   "cell_type": "code",
   "execution_count": 10,
   "id": "3e8c1421-08ad-4617-83c3-0b3f8220f606",
   "metadata": {},
   "outputs": [],
   "source": [
    "pattern1 = re.compile(r\"[0-9]+K views\") "
   ]
  },
  {
   "cell_type": "code",
   "execution_count": 11,
   "id": "eda71387-7bb2-4e93-9cc6-2be94da216eb",
   "metadata": {},
   "outputs": [],
   "source": [
    "pattern2 = re.compile(r\"\\d+ (minutes|hours|hour|days|day|weeks|week|years|year) ago\") \n"
   ]
  },
  {
   "cell_type": "code",
   "execution_count": 12,
   "id": "e3072f84-9eec-433e-9c5a-c660d49d6b0e",
   "metadata": {},
   "outputs": [],
   "source": [
    "matches1 = pattern1.finditer(response_text)"
   ]
  },
  {
   "cell_type": "code",
   "execution_count": 13,
   "id": "1088e210-001b-4b83-99e8-0d7ff1bd5703",
   "metadata": {},
   "outputs": [],
   "source": [
    "matches2 = pattern2.finditer(response_text)"
   ]
  },
  {
   "cell_type": "code",
   "execution_count": 14,
   "id": "d3c53898-14bc-4061-8e91-ec394b33fc86",
   "metadata": {},
   "outputs": [],
   "source": [
    "vid_viewcounts=[]\n",
    "vid_ages=[]\n",
    "count = 0\n",
    "for match1,match2 in zip(matches1,matches2):\n",
    "    vid_ages.append(match2[0])\n",
    "    vid_viewcounts.append(match1[0])"
   ]
  },
  {
   "cell_type": "code",
   "execution_count": 18,
   "id": "dfb1c680-62ee-4f0e-bca7-4671326f0f5e",
   "metadata": {},
   "outputs": [
    {
     "data": {
      "text/plain": [
       "[{'title': 'MEGA MOCK TEST Series is LIVE Now 🔴|| For Class-9th \\\\u0026 10th Students @free',\n",
       "  'thumbnail': 'https://i.ytimg.com/vi/U09HORTeaB8/hqdefault.jpg',\n",
       "  'link': 'https://www.youtube.com/watch?v=U09HORTeaB8',\n",
       "  'viewcount': '49K views',\n",
       "  'age': '5 days ago'},\n",
       " {'title': 'ALERT 🚨 : OLYMPIAD EXAM Registration Open for 2023-2024 | Step by Step Procedure | NSO | IMO | SOF',\n",
       "  'thumbnail': 'https://i.ytimg.com/vi/eazPrtheE14/hqdefault.jpg',\n",
       "  'link': 'https://www.youtube.com/watch?v=eazPrtheE14',\n",
       "  'viewcount': '49K views',\n",
       "  'age': '5 days ago'},\n",
       " {'title': 'Offer Ending Soon 🤯 | Only Few Hours Left | #SapneDekhneKiAzaadi 🔥',\n",
       "  'thumbnail': 'https://i.ytimg.com/vi/luqdZrYnFOM/hqdefault.jpg',\n",
       "  'link': 'https://www.youtube.com/watch?v=luqdZrYnFOM',\n",
       "  'viewcount': '20K views',\n",
       "  'age': '8 days ago'},\n",
       " {'title': 'Upto 35% Off On All PW Batches 🔥 | Only 1 Day Left 🤯 #SapneDekhneKiAzaadi',\n",
       "  'thumbnail': 'https://i.ytimg.com/vi/YiBqvPi8Q1I/hqdefault.jpg',\n",
       "  'link': 'https://www.youtube.com/watch?v=YiBqvPi8Q1I',\n",
       "  'viewcount': '20K views',\n",
       "  'age': '8 days ago'},\n",
       " {'title': 'Happy 77th Independence Day 🇮🇳 | Check the Offers Now 🔥 #SapneDekhneKiAzaadi',\n",
       "  'thumbnail': 'https://i.ytimg.com/vi/mw9mLdN6ssA/hqdefault.jpg',\n",
       "  'link': 'https://www.youtube.com/watch?v=mw9mLdN6ssA',\n",
       "  'viewcount': '17K views',\n",
       "  'age': '11 days ago'},\n",
       " {'title': 'ARTS की दुनिया की PAHAL 🔥 || Launching Class 11th ARTS BATCH',\n",
       "  'thumbnail': 'https://i.ytimg.com/vi/LuTONVLzESM/hqdefault.jpg',\n",
       "  'link': 'https://www.youtube.com/watch?v=LuTONVLzESM',\n",
       "  'viewcount': '17K views',\n",
       "  'age': '11 days ago'},\n",
       " {'title': 'Something Big Coming Soon For Class - 9th \\\\u0026 10th Students 🔥 || Stay Tuned For More Updates 🖋️',\n",
       "  'thumbnail': 'https://i.ytimg.com/vi/KWXKegvNa-I/hqdefault.jpg',\n",
       "  'link': 'https://www.youtube.com/watch?v=KWXKegvNa-I',\n",
       "  'viewcount': '12K views',\n",
       "  'age': '12 days ago'},\n",
       " {'title': 'Launching PAHAL Batch 🔥 For Class 11th Arts Students 💪',\n",
       "  'thumbnail': 'https://i.ytimg.com/vi/dArUpCasmnE/hqdefault.jpg',\n",
       "  'link': 'https://www.youtube.com/watch?v=dArUpCasmnE',\n",
       "  'viewcount': '12K views',\n",
       "  'age': '12 days ago'},\n",
       " {'title': 'Launching FUNDO For Class - 6th to 8th Students 🔥💯 || Ab Hoga Padhai Ke Sath FUN 🤩',\n",
       "  'thumbnail': 'https://i.ytimg.com/vi/HqG2QchBw8Y/hqdefault.jpg',\n",
       "  'link': 'https://www.youtube.com/watch?v=HqG2QchBw8Y',\n",
       "  'viewcount': '42K views',\n",
       "  'age': '2 weeks ago'},\n",
       " {'title': '⚡Unleashing the Power of PW Internationally⚡| Launching Physics Wallah Gulf',\n",
       "  'thumbnail': 'https://i.ytimg.com/vi/1izKrQHyx9M/hqdefault.jpg',\n",
       "  'link': 'https://www.youtube.com/watch?v=1izKrQHyx9M',\n",
       "  'viewcount': '42K views',\n",
       "  'age': '2 weeks ago'}]"
      ]
     },
     "execution_count": 18,
     "metadata": {},
     "output_type": "execute_result"
    }
   ],
   "source": [
    "titles = vid_titles[0:10]\n",
    "thumbnails = list(dict.fromkeys(vid_thumbnails))[0:10]\n",
    "links = vid_links[0:10]\n",
    "viewcounts=vid_viewcounts[0:10]\n",
    "ages=vid_ages[0:10]\n",
    "\n",
    "details_list=[]\n",
    "\n",
    "for title,thumbnail,link,viewcount,age in zip(titles,thumbnails,links,viewcounts,ages):\n",
    "    details_dict={\n",
    "    \"title\":title.split('\"')[-2], \"thumbnail\": thumbnail, \"link\": \"https://www.youtube.com/\"+link,\n",
    "    \"viewcount\": viewcount, \"age\": age\n",
    "    }\n",
    "    details_list.append(details_dict)\n",
    "\n",
    "\n",
    "\n",
    "details_list\n",
    "    "
   ]
  },
  {
   "cell_type": "code",
   "execution_count": 160,
   "id": "f1205dbe-a65f-4fec-a84a-c91d071fefc1",
   "metadata": {},
   "outputs": [],
   "source": [
    "df = pd.DataFrame(details_list)\n",
    "df.to_csv('YTScrappedData.csv', index=False)"
   ]
  },
  {
   "cell_type": "markdown",
   "id": "9059823b-c50d-4977-8c1e-4319d980cba7",
   "metadata": {},
   "source": [
    "## URL"
   ]
  },
  {
   "cell_type": "markdown",
   "id": "f004733d-0751-450c-a33a-d473ce9bc2b2",
   "metadata": {},
   "source": [
    "http://youtubescrapper-env.eba-navg5cwr.ap-south-1.elasticbeanstalk.com/"
   ]
  },
  {
   "cell_type": "code",
   "execution_count": null,
   "id": "77806f3b-fb6a-4fd0-a10d-1da29aee3194",
   "metadata": {},
   "outputs": [],
   "source": []
  }
 ],
 "metadata": {
  "kernelspec": {
   "display_name": "Python 3 (ipykernel)",
   "language": "python",
   "name": "python3"
  },
  "language_info": {
   "codemirror_mode": {
    "name": "ipython",
    "version": 3
   },
   "file_extension": ".py",
   "mimetype": "text/x-python",
   "name": "python",
   "nbconvert_exporter": "python",
   "pygments_lexer": "ipython3",
   "version": "3.10.8"
  }
 },
 "nbformat": 4,
 "nbformat_minor": 5
}
